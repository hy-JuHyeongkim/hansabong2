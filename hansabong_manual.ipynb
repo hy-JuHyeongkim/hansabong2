{
  "nbformat": 4,
  "nbformat_minor": 0,
  "metadata": {
    "colab": {
      "provenance": [],
      "authorship_tag": "ABX9TyODY1Z652o4Smc1gxN1DjaG",
      "include_colab_link": true
    },
    "kernelspec": {
      "name": "python3",
      "display_name": "Python 3"
    },
    "language_info": {
      "name": "python"
    }
  },
  "cells": [
    {
      "cell_type": "markdown",
      "metadata": {
        "id": "view-in-github",
        "colab_type": "text"
      },
      "source": [
        "<a href=\"https://colab.research.google.com/github/hy-JuHyeongkim/hansabong2/blob/main/hansabong_manual.ipynb\" target=\"_parent\"><img src=\"https://colab.research.google.com/assets/colab-badge.svg\" alt=\"Open In Colab\"/></a>"
      ]
    },
    {
      "cell_type": "code",
      "source": [
        "!git clone https://github.com/hy-JuHyeongkim/hansabong2.git\n",
        "%cd /content/hansabong2/yolov5\n",
        "%pip install -r requirements.txt\n",
        "!pip install PyMuPDF # requirements 에 추가"
      ],
      "metadata": {
        "id": "wWAnvKNPEICa"
      },
      "execution_count": null,
      "outputs": []
    },
    {
      "cell_type": "code",
      "source": [
        "from google.colab import drive\n",
        "drive.mount('/content/drive')\n",
        "\n",
        "## 구글드라이브 -> 공유문서함 에 가서\n",
        "## 여기서 쓰고싶은 폴더에 우클릭>정리>바로가기 추가 하면 됩니다"
      ],
      "metadata": {
        "id": "ICjUl_bEEZ9f"
      },
      "execution_count": null,
      "outputs": []
    },
    {
      "cell_type": "code",
      "source": [
        "import fitz  # PyMuPDF\n",
        "from PIL import Image\n",
        "import os\n",
        "\n",
        "# PDF 파일 경로 설정\n",
        "pdf_path = '/content/drive/MyDrive/연구실서고 스캔/2024-여름/민정_이성산성/3-4.pdf'  # 본인의 PDF 파일 경로로 변경\n",
        "output_folder = '/content/drive/MyDrive/연구실서고 스캔/2024-여름/주형_안면도/1차/test'    # 이미지 파일을 저장할 폴더 경로로 변경\n",
        "\n",
        "# 출력 폴더가 존재하지 않으면 생성\n",
        "if not os.path.exists(output_folder):\n",
        "    os.makedirs(output_folder)\n",
        "\n",
        "# PDF 파일 열기\n",
        "pdf_document = fitz.open(pdf_path)\n",
        "\n",
        "img_list = []\n",
        "# 각 페이지를 이미지로 변환\n",
        "for page_num in range(len(pdf_document)):\n",
        "    page = pdf_document.load_page(page_num)\n",
        "    pix = page.get_pixmap()\n",
        "    img_path = os.path.join(output_folder, f'{page_num + 1}.png')\n",
        "    img_list.append(img_path)\n",
        "\n",
        "    pix.save(img_path)\n",
        "\n",
        "print(f\"PDF 파일이 성공적으로 이미지로 변환되었습니다. 이미지는 {output_folder}에 저장되었습니다.\")"
      ],
      "metadata": {
        "id": "lwiEER4N8lT8"
      },
      "execution_count": null,
      "outputs": []
    },
    {
      "cell_type": "code",
      "source": [
        "import subprocess\n",
        "\n",
        "page_photo_counts_list = [5, 5, 5, 5, 5, 5, 4, 5, 5, 2, 5, 3, 5, 5] #각 페이지 별 몇 장의 사진이 있는지 리스트 타입으로 입력해주세요\n",
        "custom_save_path = \"/content/drive/MyDrive/연구실서고 스캔/2024-여름/주형_안면도/1차/test_result\" # 사진들이 저장될 경로를 지정해주세요\n",
        "custom_name_prefix = \"안면도 칼라 1차\" # 저장될 사진들의 이름을 입력해주세요 (ex. abc 로 입력할 경우 사진들이 abc_1, abc_2, ... 이렇게 저장됩니다)\n",
        "i=0 #시작 사진번호를 알려주세요 (ex 세 번째 pdf 를 작업하게 될 경우, 첫 번째 앨범의 총 사진 수 + 두 번째 앨범의 총 사진 수)\n",
        "for img_path,page_photo_counts in zip(img_list, page_photo_counts_list):\n",
        "\n",
        "    command = [\n",
        "        \"python\", \"/content/hansabong2/yolov5/detect.py\",\n",
        "        \"--img\", \"416\",\n",
        "        \"--weights\", \"/content/hansabong2/yolov5/runs/train/picture_yolo5m_results/weights/best.pt\",\n",
        "        \"--source\", img_path,\n",
        "        \"--save-crop\",\n",
        "        \"--custom-save-path\", custom_save_path,\n",
        "        \"--custom-name-prefix\", custom_name_prefix,\n",
        "        \"--page-photo-counts\", str(page_photo_counts),\n",
        "        \"--start-number\", str(i+1)\n",
        "    ]\n",
        "\n",
        "    result = subprocess.run(command, capture_output=True, text=True)\n",
        "    print(result.stdout)\n",
        "    print(result.stderr)\n",
        "    i+=page_photo_counts\n"
      ],
      "metadata": {
        "id": "2y37-dpB9YWu"
      },
      "execution_count": null,
      "outputs": []
    }
  ]
}